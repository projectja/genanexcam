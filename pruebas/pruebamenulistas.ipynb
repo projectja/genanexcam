{
 "cells": [
  {
   "cell_type": "code",
   "execution_count": null,
   "id": "5e5c0017",
   "metadata": {},
   "outputs": [
    {
     "name": "stdout",
     "output_type": "stream",
     "text": [
      "Seleccione una opción:\n",
      " 1 1.- OPcion 1\n",
      "clave 1\n",
      "opciones-clave1.- OPcion 1\n",
      " 2 2.- opcion 2\n",
      "clave 2\n",
      "opciones-clave2.- opcion 2\n",
      " 3 3.- Salir\n",
      "clave 3\n",
      "opciones-clave3.- Salir\n"
     ]
    }
   ],
   "source": [
    "def opcion1():\n",
    "    print (\" opcion = 1\")\n",
    "    a = input(\"Pulse una tecla ...\")\n",
    "\n",
    "def opcion2():\n",
    "    print (\" opcion = 2\")    \n",
    "    a = input(\"Pulse una tecla ...\")\n",
    "    \n",
    "def mostrar_menu(opciones):\n",
    "    print('Seleccione una opción:')\n",
    "    for clave in opciones:\n",
    "        # print(f' {opciones[clave][0]}')\n",
    "         print(f' {clave} {opciones[clave][0]}')\n",
    "         print(\"clave \" + clave)\n",
    "         print(f\"opciones-clave{opciones[clave][0]}\")\n",
    "            \n",
    "        \n",
    "def ejecutar_opcion(opcion, opciones):\n",
    "    opciones[opcion][1]()\n",
    "\n",
    "\n",
    "def leer_opcion(opciones):\n",
    "    while (a := input('Opcion:' )) not in opciones:\n",
    "           print ( 'opcion incorrecta ')\n",
    "    return a\n",
    "    \n",
    "def generar_menu(opciones, opcion_salida):\n",
    "    opcion = None\n",
    "    while opcion != opcion_salida:           \n",
    "        mostrar_menu(opciones)\n",
    "        opcion = leer_opcion(opciones)\n",
    "        ejecutar_opcion(opcion, opciones)\n",
    "        \n",
    "\n",
    "def salir():\n",
    "    \n",
    "    print ('saliendo ')\n",
    "        \n",
    "def principal():    \n",
    "    opciones = {\n",
    "        '1': ('1.- OPcion 1', opcion1),\n",
    "        '2': ('2.- opcion 2', opcion2),\n",
    "        '3': ('3.- Salir', salir )\n",
    "    }\n",
    "    generar_menu(opciones, '3')\n",
    "        \n",
    "def ejecutar_opcion(opcion, opciones):\n",
    "    opciones[opcion][1]()\n",
    "\n",
    "if __name__ == '__main__':\n",
    "    principal()\n"
   ]
  },
  {
   "cell_type": "code",
   "execution_count": 30,
   "id": "ffa1fa85",
   "metadata": {},
   "outputs": [
    {
     "data": {
      "text/plain": [
       "2"
      ]
     },
     "execution_count": 30,
     "metadata": {},
     "output_type": "execute_result"
    }
   ],
   "source": [
    "2"
   ]
  },
  {
   "cell_type": "code",
   "execution_count": null,
   "id": "a955e29b",
   "metadata": {},
   "outputs": [],
   "source": []
  },
  {
   "cell_type": "code",
   "execution_count": null,
   "id": "333157f1",
   "metadata": {},
   "outputs": [],
   "source": []
  },
  {
   "cell_type": "code",
   "execution_count": null,
   "id": "b4e99765",
   "metadata": {},
   "outputs": [],
   "source": []
  },
  {
   "cell_type": "code",
   "execution_count": null,
   "id": "776c907c",
   "metadata": {},
   "outputs": [],
   "source": []
  },
  {
   "cell_type": "code",
   "execution_count": null,
   "id": "66d847fb",
   "metadata": {},
   "outputs": [],
   "source": []
  }
 ],
 "metadata": {
  "kernelspec": {
   "display_name": "Python 3 (ipykernel)",
   "language": "python",
   "name": "python3"
  },
  "language_info": {
   "codemirror_mode": {
    "name": "ipython",
    "version": 3
   },
   "file_extension": ".py",
   "mimetype": "text/x-python",
   "name": "python",
   "nbconvert_exporter": "python",
   "pygments_lexer": "ipython3",
   "version": "3.11.4"
  }
 },
 "nbformat": 4,
 "nbformat_minor": 5
}
