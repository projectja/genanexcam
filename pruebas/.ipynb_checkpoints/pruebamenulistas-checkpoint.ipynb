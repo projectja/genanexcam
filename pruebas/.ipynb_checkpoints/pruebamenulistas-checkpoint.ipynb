{
 "cells": [
  {
   "cell_type": "code",
   "execution_count": null,
   "id": "59c6c519",
   "metadata": {},
   "outputs": [
    {
     "name": "stdout",
     "output_type": "stream",
     "text": [
      "Seleccione una opción:\n",
      " 1 1.- OPcion 1\n",
      "1\n",
      "{'1.- OPcion 1'}\n",
      " 2 2.- opcion 2\n",
      "2\n",
      "{'2.- opcion 2'}\n",
      " 3 3.- Salir\n",
      "3\n",
      "{'3.- Salir'}\n",
      "Opcion:2\n",
      " opcion = 2\n",
      "Pulse una tecla ...\n",
      "Seleccione una opción:\n",
      " 1 1.- OPcion 1\n",
      "1\n",
      "{'1.- OPcion 1'}\n",
      " 2 2.- opcion 2\n",
      "2\n",
      "{'2.- opcion 2'}\n",
      " 3 3.- Salir\n",
      "3\n",
      "{'3.- Salir'}\n",
      "Opcion:2\n",
      " opcion = 2\n"
     ]
    }
   ],
   "source": [
    "def opcion1():\n",
    "    print (\" opcion = 1\")\n",
    "    a = input(\"Pulse una tecla ...\")\n",
    "\n",
    "def opcion2():\n",
    "    print (\" opcion = 2\")    \n",
    "    a = input(\"Pulse una tecla ...\")\n",
    "    \n",
    "def mostrar_menu(opciones):\n",
    "    print('Seleccione una opción:')\n",
    "    for clave in opciones:\n",
    "        # print(f' {opciones[clave][0]}')\n",
    "         print(f' {clave} {opciones[clave][0]}')\n",
    "         print(\"clave \" + clave)\n",
    "         print(f\"opciones-clave{opciones[clave][0]}\")\n",
    "            \n",
    "        \n",
    "def ejecutar_opcion(opcion, opciones):\n",
    "    opciones[opcion][1]()\n",
    "\n",
    "\n",
    "def leer_opcion(opciones):\n",
    "    while (a := input('Opcion:' )) not in opciones:\n",
    "           print ( 'opcion incorrecta ')\n",
    "    return a\n",
    "    \n",
    "def generar_menu(opciones, opcion_salida):\n",
    "    opcion = None\n",
    "    while opcion != opcion_salida:           \n",
    "        mostrar_menu(opciones)\n",
    "        opcion = leer_opcion(opciones)\n",
    "        ejecutar_opcion(opcion, opciones)\n",
    "        \n",
    "\n",
    "def salir():\n",
    "    \n",
    "    print ('saliendo ')\n",
    "        \n",
    "def principal():    \n",
    "    opciones = {\n",
    "        '1': ('1.- OPcion 1', opcion1),\n",
    "        '2': ('2.- opcion 2', opcion2),\n",
    "        '3': ('3.- Salir', salir )\n",
    "    }\n",
    "    generar_menu(opciones, '3')\n",
    "        \n",
    "def ejecutar_opcion(opcion, opciones):\n",
    "    opciones[opcion][1]()\n",
    "\n",
    "if __name__ == '__main__':\n",
    "    principal()\n"
   ]
  },
  {
   "cell_type": "code",
   "execution_count": 30,
   "id": "fb613ffd",
   "metadata": {},
   "outputs": [
    {
     "data": {
      "text/plain": [
       "2"
      ]
     },
     "execution_count": 30,
     "metadata": {},
     "output_type": "execute_result"
    }
   ],
   "source": [
    "2"
   ]
  },
  {
   "cell_type": "code",
   "execution_count": null,
   "id": "5f25e231",
   "metadata": {},
   "outputs": [],
   "source": []
  },
  {
   "cell_type": "code",
   "execution_count": null,
   "id": "5ddf89b9",
   "metadata": {},
   "outputs": [],
   "source": []
  },
  {
   "cell_type": "code",
   "execution_count": null,
   "id": "304d9b6f",
   "metadata": {},
   "outputs": [],
   "source": []
  },
  {
   "cell_type": "code",
   "execution_count": null,
   "id": "e4b0d5fa",
   "metadata": {},
   "outputs": [],
   "source": []
  },
  {
   "cell_type": "code",
   "execution_count": null,
   "id": "64cea9b3",
   "metadata": {},
   "outputs": [],
   "source": []
  }
 ],
 "metadata": {
  "kernelspec": {
   "display_name": "Python 3 (ipykernel)",
   "language": "python",
   "name": "python3"
  },
  "language_info": {
   "codemirror_mode": {
    "name": "ipython",
    "version": 3
   },
   "file_extension": ".py",
   "mimetype": "text/x-python",
   "name": "python",
   "nbconvert_exporter": "python",
   "pygments_lexer": "ipython3",
   "version": "3.11.4"
  }
 },
 "nbformat": 4,
 "nbformat_minor": 5
}
