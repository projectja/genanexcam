{
 "cells": [
  {
   "cell_type": "code",
   "execution_count": 73,
   "id": "0d1febab",
   "metadata": {
    "scrolled": true
   },
   "outputs": [
    {
     "name": "stdout",
     "output_type": "stream",
     "text": [
      "c:/users/alfonso/downloads\\*.docx\n",
      "file_list ['c:/users/alfonso/downloads\\\\03-Anexo-II.-Declaracion-responsable.docx', 'c:/users/alfonso/downloads\\\\Anexo 03. Ficha de Empresa 2022-v2.docx', 'c:/users/alfonso/downloads\\\\Anexo 18. Registro Prestación Servicio Fase I - Esther-firmadoono.docx', 'c:/users/alfonso/downloads\\\\Anexo 19_v2. Participación en Fase II - Juan Carlos.docx', 'c:/users/alfonso/downloads\\\\Anexo_XI.   Inscripcion_Formación_EE (1).docx HUELVA - CASILLA VERIFICACION.docx', 'c:/users/alfonso/downloads\\\\C02921ED_Documento Memoria de Proyecto.docx', 'c:/users/alfonso/downloads\\\\Carta Acreditación Representación.docx', 'c:/users/alfonso/downloads\\\\Claves para elegir el CRM de tu empresa_delivery.docx', 'c:/users/alfonso/downloads\\\\CODIGO BUENAS PRACTICAS 22_12_2015.docx', 'c:/users/alfonso/downloads\\\\dni rebeca word.docx', 'c:/users/alfonso/downloads\\\\Formulario consulta gastos elegibles.docx', 'c:/users/alfonso/downloads\\\\HIERROS ESPAÑO.docx', 'c:/users/alfonso/downloads\\\\KD_0000008539_Notificación de subsanación de justificación.docx', 'c:/users/alfonso/downloads\\\\KD_0000008539_Requerimiento de subsanación de justificación (1).docx', 'c:/users/alfonso/downloads\\\\KD_0000008539_Requerimiento de subsanación de justificación (2).docx', 'c:/users/alfonso/downloads\\\\KD_0000008539_Requerimiento de subsanación de justificación.docx', 'c:/users/alfonso/downloads\\\\kwintink.docx', 'c:/users/alfonso/downloads\\\\PERSONA-FISICA-DECLARACION-RESPONSABLE (1).docx', 'c:/users/alfonso/downloads\\\\PERSONA-FISICA-DECLARACION-RESPONSABLE (2).docx', 'c:/users/alfonso/downloads\\\\PERSONA-FISICA-DECLARACION-RESPONSABLE.docx', 'c:/users/alfonso/downloads\\\\PERSONA-FISICA-MODELO-PRESENTACION-CANDIDATURA- (1).docx', 'c:/users/alfonso/downloads\\\\PERSONA-FISICA-MODELO-PRESENTACION-CANDIDATURA- (2).docx', 'c:/users/alfonso/downloads\\\\PERSONA-FISICA-MODELO-PRESENTACION-CANDIDATURA-.docx', 'c:/users/alfonso/downloads\\\\peticion-de-contador.docx', 'c:/users/alfonso/downloads\\\\PJ-DECLARACION-RESPONSABLE-REQUISITOS-ELEGIBILIDAD (1).docx', 'c:/users/alfonso/downloads\\\\PJ-DECLARACION-RESPONSABLE-REQUISITOS-ELEGIBILIDAD.docx', 'c:/users/alfonso/downloads\\\\PJ-MODELO-PRESENTACION-CANDIDATURA (1).docx', 'c:/users/alfonso/downloads\\\\PJ-MODELO-PRESENTACION-CANDIDATURA (2).docx', 'c:/users/alfonso/downloads\\\\PJ-MODELO-PRESENTACION-CANDIDATURA (3).docx', 'c:/users/alfonso/downloads\\\\PJ-MODELO-PRESENTACION-CANDIDATURA.docx', 'c:/users/alfonso/downloads\\\\PRESUPUESTO-VENTANAS (1).docx', 'c:/users/alfonso/downloads\\\\PRESUPUESTO-VENTANAS.docx', 'c:/users/alfonso/downloads\\\\primera mitad mpi (1).docx', 'c:/users/alfonso/downloads\\\\redes_sociales_alfonso.docx', 'c:/users/alfonso/downloads\\\\~$-DECLARACION-RESPONSABLE-REQUISITOS-ELEGIBILIDAD.docx', 'c:/users/alfonso/downloads\\\\~$exo 18. Registro Prestación Servicio Fase I - Esther-firmadoono.docx', 'c:/users/alfonso/downloads\\\\~$rmulario consulta gastos elegibles.docx', 'c:/users/alfonso/downloads\\\\~$RSONA-FISICA-DECLARACION-RESPONSABLE (1).docx']\n"
     ]
    }
   ],
   "source": [
    "import glob\n",
    "import os\n",
    "from pathlib import Path\n",
    "\n",
    "ruta2 = \" aa \"\n",
    "ruta = 'c:/users/alfonso/downloads'\n",
    "glob_path = os.path.join('c:/users/alfonso/downloads','*.docx')\n",
    "print (glob_path)\n",
    "glob.glob(glob_path)\n",
    "file_list = glob.glob(glob_path)\n",
    "\n",
    "print('file_list {}'.format(file_list))\n",
    "\n",
    "\n"
   ]
  },
  {
   "cell_type": "code",
   "execution_count": null,
   "id": "21e4394d",
   "metadata": {},
   "outputs": [],
   "source": []
  },
  {
   "cell_type": "code",
   "execution_count": null,
   "id": "22e0721e",
   "metadata": {},
   "outputs": [],
   "source": []
  },
  {
   "cell_type": "code",
   "execution_count": null,
   "id": "f63f279e",
   "metadata": {},
   "outputs": [],
   "source": []
  },
  {
   "cell_type": "code",
   "execution_count": null,
   "id": "0bfc77bf",
   "metadata": {},
   "outputs": [],
   "source": []
  },
  {
   "cell_type": "code",
   "execution_count": null,
   "id": "142e9806",
   "metadata": {},
   "outputs": [],
   "source": []
  }
 ],
 "metadata": {
  "kernelspec": {
   "display_name": "Python 3 (ipykernel)",
   "language": "python",
   "name": "python3"
  },
  "language_info": {
   "codemirror_mode": {
    "name": "ipython",
    "version": 3
   },
   "file_extension": ".py",
   "mimetype": "text/x-python",
   "name": "python",
   "nbconvert_exporter": "python",
   "pygments_lexer": "ipython3",
   "version": "3.11.4"
  }
 },
 "nbformat": 4,
 "nbformat_minor": 5
}
